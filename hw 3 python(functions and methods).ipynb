{
 "cells": [
  {
   "cell_type": "code",
   "execution_count": null,
   "metadata": {
    "collapsed": false
   },
   "outputs": [],
   "source": [
    "import math\n",
    "def vol(rad):\n",
    "    return (4/3) * math.pi * rad**3"
   ]
  },
  {
   "cell_type": "code",
   "execution_count": null,
   "metadata": {
    "collapsed": false
   },
   "outputs": [],
   "source": [
    "def ran_check(num,low,high):\n",
    "    if num in range(low,high):\n",
    "        return True\n",
    "    else:\n",
    "        return False\n",
    "print(ran_check(1,10))"
   ]
  },
  {
   "cell_type": "code",
   "execution_count": 9,
   "metadata": {
    "collapsed": false
   },
   "outputs": [
    {
     "name": "stdout",
     "output_type": "stream",
     "text": [
      "4\n",
      "33\n",
      "None\n"
     ]
    }
   ],
   "source": [
    "# Notice the print statement relative to the for loop. Putting the print statement here will give you a single value\n",
    "def upper_lower(st):\n",
    "    d = {'upper':0,'lower':0}\n",
    "    for value in st:\n",
    "        if value.isupper():\n",
    "            d['upper'] +=1\n",
    "        elif value.islower():\n",
    "            d['lower'] +=1\n",
    "        else:\n",
    "            pass\n",
    "    print(d['upper'])\n",
    "    print(d['lower'])\n",
    "\n",
    "print(upper_lower('Hello Mr. Rogers, how are you this fine Tuesday?'))"
   ]
  },
  {
   "cell_type": "code",
   "execution_count": 6,
   "metadata": {
    "collapsed": false
   },
   "outputs": [
    {
     "name": "stdout",
     "output_type": "stream",
     "text": [
      "[1, 2, 3, 5, 6]\n"
     ]
    }
   ],
   "source": [
    "def unique_list(n):\n",
    "    return list(set(n))\n",
    "n = [1,1,1,2,3,3,3,5,5,6]\n",
    "print(unique_list(n))"
   ]
  },
  {
   "cell_type": "code",
   "execution_count": 38,
   "metadata": {
    "collapsed": false
   },
   "outputs": [],
   "source": [
    "def multiply(numbers):  \n",
    "    total = 1\n",
    "    for x in numbers:\n",
    "        total = total * x  \n",
    "    return total"
   ]
  },
  {
   "cell_type": "code",
   "execution_count": 39,
   "metadata": {
    "collapsed": false
   },
   "outputs": [
    {
     "data": {
      "text/plain": [
       "48"
      ]
     },
     "execution_count": 39,
     "metadata": {},
     "output_type": "execute_result"
    }
   ],
   "source": [
    "multiply([2,2,3,4])"
   ]
  },
  {
   "cell_type": "code",
   "execution_count": 14,
   "metadata": {
    "collapsed": false
   },
   "outputs": [
    {
     "name": "stdout",
     "output_type": "stream",
     "text": [
      "24\n"
     ]
    }
   ],
   "source": [
    "import numpy as np\n",
    "def multiply(numbers):\n",
    "    return np.prod(numbers)\n",
    "print(multiply([1,2,3,4]))\n"
   ]
  },
  {
   "cell_type": "code",
   "execution_count": null,
   "metadata": {
    "collapsed": false
   },
   "outputs": [],
   "source": [
    "def palindrome(s):\n",
    "    return s[::] == s[::-1]\n",
    "\n",
    "print(palindrome('baab'))"
   ]
  },
  {
   "cell_type": "code",
   "execution_count": 34,
   "metadata": {
    "collapsed": false
   },
   "outputs": [
    {
     "name": "stdout",
     "output_type": "stream",
     "text": [
      "True\n"
     ]
    }
   ],
   "source": [
    "import string\n",
    "\n",
    "def ispangram(str1, alphabet=string.ascii_lowercase):  \n",
    "    alphaset = set(alphabet)\n",
    "    return alphaset <= set(str1.lower())\n",
    "\n",
    "print(ispangram(\"The quick brown fox jumps over the lazy dog\"))"
   ]
  },
  {
   "cell_type": "code",
   "execution_count": null,
   "metadata": {
    "collapsed": false
   },
   "outputs": [],
   "source": [
    "\n",
    "x = 1\n",
    "while x < 10:\n",
    "    x = x +1\n",
    "    print(x)\n",
    "    "
   ]
  },
  {
   "cell_type": "code",
   "execution_count": null,
   "metadata": {
    "collapsed": false
   },
   "outputs": [],
   "source": [
    "def learning(x):\n",
    "    try:\n",
    "        x = 0\n",
    "        while x < 10:\n",
    "            print(x)\n",
    "            x = x +1\n",
    "    except:\n",
    "        print('The number you entered is too high')\n",
    "print(learning(11))"
   ]
  },
  {
   "cell_type": "code",
   "execution_count": null,
   "metadata": {
    "collapsed": true
   },
   "outputs": [],
   "source": []
  }
 ],
 "metadata": {
  "anaconda-cloud": {},
  "kernelspec": {
   "display_name": "Python [default]",
   "language": "python",
   "name": "python3"
  },
  "language_info": {
   "codemirror_mode": {
    "name": "ipython",
    "version": 3
   },
   "file_extension": ".py",
   "mimetype": "text/x-python",
   "name": "python",
   "nbconvert_exporter": "python",
   "pygments_lexer": "ipython3",
   "version": "3.5.2"
  }
 },
 "nbformat": 4,
 "nbformat_minor": 0
}
