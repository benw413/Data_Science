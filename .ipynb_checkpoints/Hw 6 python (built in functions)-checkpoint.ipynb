{
 "cells": [
  {
   "cell_type": "markdown",
   "metadata": {
    "collapsed": false
   },
   "source": [
    "# Problem 1\n",
    "Use map to create a function which finds the length of each word in the phrase (broken by spaces) and return the values in a list.\n",
    "\n",
    "The function will have an input of a string, and output a list of integers."
   ]
  },
  {
   "cell_type": "code",
   "execution_count": null,
   "metadata": {
    "collapsed": false
   },
   "outputs": [],
   "source": [
    "def word_lengths(phrase):\n",
    "    return [len(value) for value in phrase.split()]\n",
    "\n",
    "print(word_lengths('How long are the words in this phrase'))"
   ]
  },
  {
   "cell_type": "code",
   "execution_count": null,
   "metadata": {
    "collapsed": false
   },
   "outputs": [],
   "source": [
    "x = ['How long are the words in this phrase']\n",
    "def word_lengths(phrase):\n",
    "    return [len(value) for value in phrase.split()]\n",
    "\n",
    "list(map(word_lengths,x))"
   ]
  },
  {
   "cell_type": "code",
   "execution_count": 1,
   "metadata": {
    "collapsed": false
   },
   "outputs": [
    {
     "name": "stdout",
     "output_type": "stream",
     "text": [
      "[3, 4, 3, 3, 5, 2, 4, 6]\n"
     ]
    }
   ],
   "source": [
    "def word_lengths(phrase):\n",
    "    return list(map(len,phrase.split()))\n",
    "\n",
    "print(word_lengths('How long are the words in this phrase'))"
   ]
  },
  {
   "cell_type": "markdown",
   "metadata": {},
   "source": [
    "# Problem 2\n",
    "Use reduce to take a list of digits and return the number that they correspond to. Do not convert the integers to strings!"
   ]
  },
  {
   "cell_type": "code",
   "execution_count": 1,
   "metadata": {
    "collapsed": false
   },
   "outputs": [
    {
     "name": "stdout",
     "output_type": "stream",
     "text": [
      "34335246\n"
     ]
    }
   ],
   "source": [
    "# This is not what it is asking for, just pratice.\n",
    "def digits_to_num(digits):\n",
    "    a = ''\n",
    "    b = [str(value) for value in digits]\n",
    "    return int(a.join(b))\n",
    "print(digits_to_num([3, 4, 3, 3, 5, 2, 4, 6]))"
   ]
  },
  {
   "cell_type": "code",
   "execution_count": 13,
   "metadata": {
    "collapsed": false
   },
   "outputs": [
    {
     "name": "stdout",
     "output_type": "stream",
     "text": [
      "34321\n"
     ]
    }
   ],
   "source": [
    "import functools\n",
    "def digits_to_num(digits): \n",
    "    return functools.reduce(lambda x,y: x *10 + y, digits)\n",
    "print(digits_to_num([3, 4, 3, 2,1]))"
   ]
  },
  {
   "cell_type": "markdown",
   "metadata": {},
   "source": [
    "# Problem 3\n",
    "Use filter to return the words from a list of words which start with a target letter."
   ]
  },
  {
   "cell_type": "code",
   "execution_count": null,
   "metadata": {
    "collapsed": false
   },
   "outputs": [],
   "source": [
    "def filter_words(words):\n",
    "    return [value for value in words if value.startswith('h')]\n",
    "print(filter_words(['hello','are','cat','dog','ham','hi','go','to','heart']))\n"
   ]
  },
  {
   "cell_type": "code",
   "execution_count": 8,
   "metadata": {
    "collapsed": false
   },
   "outputs": [
    {
     "data": {
      "text/plain": [
       "['hello', 'ham', 'hi', 'heart']"
      ]
     },
     "execution_count": 8,
     "metadata": {},
     "output_type": "execute_result"
    }
   ],
   "source": [
    "def filter_words(word_list, letter):\n",
    "    \n",
    "    return filter(lambda word: word[0]==letter,word_list)\n",
    "l = ['hello','are','cat','dog','ham','hi','go','to','heart']\n",
    "list(filter_words(l,'h'))"
   ]
  },
  {
   "cell_type": "markdown",
   "metadata": {
    "collapsed": true
   },
   "source": [
    "# Problem 4\n",
    "Use zip and list comprehension to return a list of the same length where each value is the two strings from L1 and L2 concatenated together with connector between them. Look at the example output below:\n",
    "\n",
    "\n"
   ]
  },
  {
   "cell_type": "code",
   "execution_count": 14,
   "metadata": {
    "collapsed": false
   },
   "outputs": [
    {
     "name": "stdout",
     "output_type": "stream",
     "text": [
      "['A-a', 'B-b']\n"
     ]
    }
   ],
   "source": [
    "def concatenate(L1, L2, connector):\n",
    "    return [word1+connector+word2 for (word1,word2) in zip(L1,L2)]\n",
    "print(concatenate(['A','B'],['a','b'],'-'))\n"
   ]
  },
  {
   "cell_type": "markdown",
   "metadata": {},
   "source": [
    "# Problem 5\n",
    "Use enumerate and other skills to return a dictionary which has the values of the list as keys and the index as the value. You may assume that a value will only appear once in the given list."
   ]
  },
  {
   "cell_type": "code",
   "execution_count": null,
   "metadata": {
    "collapsed": false
   },
   "outputs": [],
   "source": [
    "def d_list(L):\n",
    "    return {key:value for value,key in enumerate(L)}\n",
    "print(d_list(['a','b','c']))\n"
   ]
  },
  {
   "cell_type": "markdown",
   "metadata": {},
   "source": [
    "# Problem 6\n",
    "Use enumerate and other skills from above to return the count of the number of items in the list whose value equals its index."
   ]
  },
  {
   "cell_type": "code",
   "execution_count": 9,
   "metadata": {
    "collapsed": false
   },
   "outputs": [
    {
     "data": {
      "text/plain": [
       "4"
      ]
     },
     "execution_count": 9,
     "metadata": {},
     "output_type": "execute_result"
    }
   ],
   "source": [
    "def count_match_index(L):\n",
    "    return len([num for count,num in enumerate(L) if num == count])\n",
    "count_match_index([0,2,2,1,5,5,6,10])"
   ]
  },
  {
   "cell_type": "markdown",
   "metadata": {
    "collapsed": false
   },
   "source": [
    "# Example Code\n"
   ]
  },
  {
   "cell_type": "code",
   "execution_count": 2,
   "metadata": {
    "collapsed": false
   },
   "outputs": [
    {
     "name": "stdout",
     "output_type": "stream",
     "text": [
      "15\n"
     ]
    }
   ],
   "source": [
    "import functools\n",
    "\n",
    "def additon(x,y):\n",
    "    return x+y\n",
    "print(functools.reduce(additon,[1,2,3,4,5]))"
   ]
  },
  {
   "cell_type": "code",
   "execution_count": null,
   "metadata": {
    "collapsed": true
   },
   "outputs": [],
   "source": [
    "import functools\n",
    "lst = [1,2,3,4,5]\n",
    "def max_find(a,b):\n",
    "    if a > b:\n",
    "        return a\n",
    "    else:\n",
    "        return b\n",
    "functools.reduce(max_find,lst)"
   ]
  }
 ],
 "metadata": {
  "anaconda-cloud": {},
  "kernelspec": {
   "display_name": "Python [default]",
   "language": "python",
   "name": "python3"
  },
  "language_info": {
   "codemirror_mode": {
    "name": "ipython",
    "version": 3
   },
   "file_extension": ".py",
   "mimetype": "text/x-python",
   "name": "python",
   "nbconvert_exporter": "python",
   "pygments_lexer": "ipython3",
   "version": "3.5.2"
  }
 },
 "nbformat": 4,
 "nbformat_minor": 1
}
